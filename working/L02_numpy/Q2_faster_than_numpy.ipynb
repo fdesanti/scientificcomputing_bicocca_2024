{
 "cells": [
  {
   "cell_type": "markdown",
   "metadata": {},
   "source": [
    "# Q2 - Faster than Numpy"
   ]
  },
  {
   "cell_type": "code",
   "execution_count": 15,
   "metadata": {},
   "outputs": [],
   "source": [
    "import numpy as np\n",
    "\n",
    "def my_std(x):\n",
    "    \"\"\"\n",
    "    Calculate the mean and standard deviation of a numpy array.\n",
    "    \"\"\"\n",
    "    N = len(x)\n",
    "    mu = np.sum(x)/N if N > 0 else 0\n",
    "    sum_square = np.sum((x - mu) ** 2)\n",
    "    std = np.sqrt(sum_square / N)\n",
    "    \n",
    "    return std"
   ]
  },
  {
   "cell_type": "markdown",
   "metadata": {},
   "source": [
    "### test accuracy"
   ]
  },
  {
   "cell_type": "code",
   "execution_count": 16,
   "metadata": {},
   "outputs": [
    {
     "name": "stdout",
     "output_type": "stream",
     "text": [
      "my_std: 1.001045260291019, np.std: 1.001045260291019\n"
     ]
    }
   ],
   "source": [
    "# test my function vs numpy's std\n",
    "x = np.random.randn(int(1e5))\n",
    "\n",
    "std = my_std(x)\n",
    "np_std = np.std(x)\n",
    "print(f\"my_std: {std}, np.std: {np_std}\")\n",
    "assert np.isclose(std, np_std), \"The standard deviations do not match!\"\n"
   ]
  },
  {
   "cell_type": "markdown",
   "metadata": {},
   "source": [
    "### test speed"
   ]
  },
  {
   "cell_type": "code",
   "execution_count": 17,
   "metadata": {},
   "outputs": [
    {
     "name": "stdout",
     "output_type": "stream",
     "text": [
      "66 μs ± 1.58 μs per loop (mean ± std. dev. of 7 runs, 10,000 loops each)\n"
     ]
    }
   ],
   "source": [
    "# test my_std\n",
    "%timeit my_std(x)"
   ]
  },
  {
   "cell_type": "code",
   "execution_count": 20,
   "metadata": {},
   "outputs": [
    {
     "name": "stdout",
     "output_type": "stream",
     "text": [
      "76.2 μs ± 2.55 μs per loop (mean ± std. dev. of 7 runs, 10,000 loops each)\n"
     ]
    }
   ],
   "source": [
    "#test numpy's std\n",
    "%timeit np.std(x)"
   ]
  }
 ],
 "metadata": {
  "kernelspec": {
   "display_name": "igwn",
   "language": "python",
   "name": "python3"
  },
  "language_info": {
   "codemirror_mode": {
    "name": "ipython",
    "version": 3
   },
   "file_extension": ".py",
   "mimetype": "text/x-python",
   "name": "python",
   "nbconvert_exporter": "python",
   "pygments_lexer": "ipython3",
   "version": "3.10.15"
  }
 },
 "nbformat": 4,
 "nbformat_minor": 2
}
